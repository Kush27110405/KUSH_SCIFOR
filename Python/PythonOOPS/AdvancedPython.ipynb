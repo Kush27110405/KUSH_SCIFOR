{
  "nbformat": 4,
  "nbformat_minor": 0,
  "metadata": {
    "colab": {
      "provenance": [],
      "authorship_tag": "ABX9TyMtwlWzKuYAouiw/QjuWpHo",
      "include_colab_link": true
    },
    "kernelspec": {
      "name": "python3",
      "display_name": "Python 3"
    },
    "language_info": {
      "name": "python"
    }
  },
  "cells": [
    {
      "cell_type": "markdown",
      "metadata": {
        "id": "view-in-github",
        "colab_type": "text"
      },
      "source": [
        "<a href=\"https://colab.research.google.com/github/Kush27110405/KUSH_SCIFOR/blob/main/Python/PythonOOPS/AdvancedPython.ipynb\" target=\"_parent\"><img src=\"https://colab.research.google.com/assets/colab-badge.svg\" alt=\"Open In Colab\"/></a>"
      ]
    },
    {
      "cell_type": "code",
      "execution_count": null,
      "metadata": {
        "colab": {
          "base_uri": "https://localhost:8080/"
        },
        "id": "o51ZFp7fXnLy",
        "outputId": "bc1c42b4-3904-4fcc-fa5a-d8e397ae1cb4"
      },
      "outputs": [
        {
          "output_type": "stream",
          "name": "stdout",
          "text": [
            "15\n",
            "Machinelearning\n"
          ]
        }
      ],
      "source": [
        "#Polymorphism crude example:-(just to understand)\n",
        "\n",
        "def addition(a,b):\n",
        "  s = a + b\n",
        "  return s\n",
        "\n",
        "print(addition(10,5))\n",
        "print(addition(\"Machine\",\"learning\"))\n"
      ]
    },
    {
      "cell_type": "code",
      "source": [
        "#Encapsulation - is making attributes private(in practice) --- just-to-understand-definition\n",
        "\"\"\"\n",
        "Encapsulation Q1 :- creating a class \"Car\" to encapsulate the \"Brand\" of a car. (discussed in class)\n",
        "\"\"\"\n",
        "class Car:\n",
        "  def __init__(self,brand,model,year):\n",
        "    self.__brand = brand  # private attribute - encapsulation\n",
        "    self.model = model #public\n",
        "    self.year = year #public\n",
        "\n",
        "  def get_brand(self):#  Public method to access private attribute\n",
        "    return self.__brand\n",
        "\n",
        "  def accelerate(self):\n",
        "    print(f\"The {self.model} is accelerating!\")\n",
        "\n",
        "my_car = Car(\"Tesla\",\"Model 5\",2023)\n",
        "print(my_car.model)\n",
        "\n",
        "#print(my_car.__brand) --- wrong!\n",
        "\n",
        "print(my_car.get_brand())\n"
      ],
      "metadata": {
        "colab": {
          "base_uri": "https://localhost:8080/"
        },
        "id": "z4wu7fVsh8ES",
        "outputId": "4e1987dd-2a13-4af2-e7e5-3fe9226e0c1a"
      },
      "execution_count": null,
      "outputs": [
        {
          "output_type": "stream",
          "name": "stdout",
          "text": [
            "Model 5\n",
            "Tesla\n"
          ]
        }
      ]
    },
    {
      "cell_type": "code",
      "source": [
        "\"\"\"\n",
        "Encapsulation Q2 :- creating a class \"BankAccount\" to encapsulate the balance of the account.\n",
        "\"\"\"\n",
        "class BankAccount:\n",
        "  def __init__(self,account_number,balance = 0):\n",
        "    self.__account_number = account_number\n",
        "    self.__balance = balance\n",
        "\n",
        "  @property\n",
        "  def account_number(self):\n",
        "    return self.__account_number\n",
        "\n",
        "  @property\n",
        "  def balance(self):\n",
        "    return self.__balance\n",
        "\n",
        "  def deposit(self,amount):\n",
        "    self.__balance += amount\n",
        "\n",
        "  def withdraw(self,amount):\n",
        "    if self.__balance >= amount:\n",
        "      self.__balance -= amount\n",
        "    else:\n",
        "      print(\"Insufficient balance!\")\n",
        "\n",
        "my_BankAccount = BankAccount(\"123456\")\n",
        "print(my_BankAccount.account_number)\n",
        "print(my_BankAccount.balance)\n",
        "\n",
        "my_BankAccount.deposit(50000)\n",
        "print(my_BankAccount.balance)\n",
        "\n",
        "my_BankAccount.withdraw(20000)\n",
        "print(my_BankAccount.balance)"
      ],
      "metadata": {
        "colab": {
          "base_uri": "https://localhost:8080/"
        },
        "id": "ZPv7yKn3cGXf",
        "outputId": "1f7f7d1b-7daf-4516-d9b0-7a556fcadf2d"
      },
      "execution_count": null,
      "outputs": [
        {
          "output_type": "stream",
          "name": "stdout",
          "text": [
            "123456\n",
            "0\n",
            "50000\n",
            "30000\n"
          ]
        }
      ]
    },
    {
      "cell_type": "code",
      "source": [
        "\"\"\"\n",
        "Encapsulation Q3 - creating a class \"Employee\" to encapsulate the employee id and salary\n",
        "\"\"\"\n",
        "\n",
        "class Employee:\n",
        "  def __init__(self,employee_id,salary):\n",
        "    self.__employee_id = employee_id if isinstance(employee_id,int) else None\n",
        "    self.__salary = salary if isinstance(salary,float) else None\n",
        "\n",
        "  @property\n",
        "  def employee_id(self):\n",
        "    return self.__employee_id\n",
        "\n",
        "  @property\n",
        "  def salary(self):\n",
        "    return self.__salary\n",
        "\n",
        "  def raise_salary(self,percentage):\n",
        "    self.__salary += (self.__salary * percentage/100)\n",
        "\n",
        "  @employee_id.setter\n",
        "  def employee_id(self,employee_id):\n",
        "    if not isinstance(employee_id,int):\n",
        "      print(\"Employee_id must be an integer\")\n",
        "    else:\n",
        "      self.__employee_id = employee_id\n",
        "\n",
        "  @salary.setter\n",
        "  def salary(self,salary):\n",
        "    if not isinstance(salary,float):\n",
        "      print(\"Salary must be a decimal value.\")\n",
        "    else:\n",
        "      self.__salary = salary\n",
        "\n",
        "emp = Employee(\"A\",\"B\")\n",
        "print(emp.employee_id)\n",
        "print(emp.salary)\n",
        "\n",
        "emp.employee_id = 101\n",
        "print(emp.employee_id)\n",
        "\n",
        "emp.salary = 10000.0\n",
        "print(emp.salary)\n",
        "\n",
        "emp.raise_salary(10)\n",
        "print(emp.salary)\n"
      ],
      "metadata": {
        "colab": {
          "base_uri": "https://localhost:8080/"
        },
        "id": "-Nb2lpWrfE2N",
        "outputId": "70fe701e-82da-412c-d999-1e0bf1f34670"
      },
      "execution_count": null,
      "outputs": [
        {
          "output_type": "stream",
          "name": "stdout",
          "text": [
            "None\n",
            "None\n",
            "101\n",
            "10000.0\n",
            "11000.0\n"
          ]
        }
      ]
    },
    {
      "cell_type": "code",
      "source": [
        "\"\"\"\n",
        "Encapsulation Practice Q1 - creating a class \"Student\" to encapsulate the name and grades of the student\n",
        "\"\"\"\n",
        "\n",
        "class Student:\n",
        "    def __init__(self, name, grades=None):\n",
        "        self._name = name\n",
        "        self._grades = grades if grades is not None else []\n",
        "\n",
        "    @property\n",
        "    def name(self):\n",
        "        return self._name\n",
        "\n",
        "    @name.setter\n",
        "    def name(self, value):\n",
        "        if not isinstance(value, str):\n",
        "            raise ValueError(\"Name must be a string.\")\n",
        "        self._name = value\n",
        "\n",
        "    @property\n",
        "    def grades(self):\n",
        "        return self._grades\n",
        "\n",
        "    @grades.setter\n",
        "    def grades(self, value):\n",
        "        if not isinstance(value, list) or not all(isinstance(grade, int) for grade in value):\n",
        "            raise ValueError(\"Grades must be a list of integers.\")\n",
        "        self._grades = value\n",
        "\n",
        "    def add_grade(self, grade):\n",
        "        if not isinstance(grade, int):\n",
        "            raise ValueError(\"Grade must be an integer.\")\n",
        "        self._grades.append(grade)\n",
        "\n",
        "# Usage\n",
        "student = Student(\"Alice\")\n",
        "print(student.name)  # Output: Alice\n",
        "\n",
        "student.name = \"Bob\"\n",
        "print(student.name)  # Output: Bob\n",
        "\n",
        "student.grades = [90, 85, 92]\n",
        "print(student.grades)  # Output: [90, 85, 92]\n",
        "\n",
        "student.add_grade(88)\n",
        "print(student.grades)  # Output: [90, 85, 92, 88]\n",
        "\n",
        "# Trying to set invalid values\n",
        "try:\n",
        "    student.name = 12345\n",
        "except ValueError as e:\n",
        "    print(e)  # Output: Name must be a string.\n",
        "\n",
        "try:\n",
        "    student.grades = [90, \"A\", 85]\n",
        "except ValueError as e:\n",
        "    print(e)  # Output: Grades must be a list of integers.\n",
        "\n",
        "try:\n",
        "    student.add_grade(\"A\")\n",
        "except ValueError as e:\n",
        "    print(e)  # Output: Grade must be an integer.\n"
      ],
      "metadata": {
        "id": "OrIkk4-mhPqR"
      },
      "execution_count": null,
      "outputs": []
    },
    {
      "cell_type": "code",
      "source": [
        "#Polymorphism\n",
        "\n",
        "class Animal:  #parent class\n",
        "  def make_sound(self):\n",
        "    print(\"Generic Animal Sound\")\n",
        "\n",
        "class Dog(Animal):  #subclass \"Dog\" inheriting from \"Animal\"\n",
        "  def make_sound(self):  #overwriting the make_sound method\n",
        "    print(\"Woof\")\n",
        "\n",
        "class Cat(Animal):  #subclass \"cat\" inheriting from parent class \"Animal\"\n",
        "  def make_sound(self):\n",
        "    print(\"Meow\")\n",
        "\n",
        "def speak(animal):# speak - function responsible for polymorphism, animal : object\n",
        "  animal.make_sound()  #Polymorphic behaviour\n",
        "\n",
        "dog = Dog()\n",
        "cat = Cat()\n",
        "animal = Animal()\n",
        "\n",
        "speak(dog)\n",
        "speak(cat)\n",
        "speak(animal)"
      ],
      "metadata": {
        "colab": {
          "base_uri": "https://localhost:8080/"
        },
        "id": "FGGA9uOvkxE_",
        "outputId": "9a0109c3-2726-4eae-8e26-917537a6a655"
      },
      "execution_count": null,
      "outputs": [
        {
          "output_type": "stream",
          "name": "stdout",
          "text": [
            "Woof\n",
            "Meow\n",
            "Generic Animal Sound\n"
          ]
        }
      ]
    },
    {
      "cell_type": "code",
      "source": [
        "#Inheritance = characteristic of parents + existing unique characteristic of child/sub-class\n",
        "\n",
        "#levels of inheritance(categories) -\n",
        "\"\"\"\n",
        "1. Single level inheritance\n",
        "2. Multilevel inheritance\n",
        "3. Hierarchical inheritance\n",
        "4. Multiple level inheritance\n",
        "5. Hybrid inheritance (combination of multiple level inheritance and multi level inheritance)\n",
        "\"\"\""
      ],
      "metadata": {
        "id": "5U7jOzPKpsym"
      },
      "execution_count": null,
      "outputs": []
    },
    {
      "cell_type": "code",
      "source": [
        "def factorial(n):\n",
        "  if n == 0:\n",
        "    return 1\n",
        "  else:\n",
        "    return n * factorial(n-1)\n",
        "\n",
        "n = int(input(\"Enter a number: \"))\n",
        "print(factorial(n))"
      ],
      "metadata": {
        "colab": {
          "base_uri": "https://localhost:8080/"
        },
        "id": "nuB-A0rZxAIJ",
        "outputId": "f99d8003-aedb-4696-fdd5-405bb4b569bc"
      },
      "execution_count": null,
      "outputs": [
        {
          "output_type": "stream",
          "name": "stdout",
          "text": [
            "Enter a number: 34\n",
            "295232799039604140847618609643520000000\n"
          ]
        }
      ]
    },
    {
      "cell_type": "code",
      "source": [
        "def fact(n):\n",
        "  result = 1\n",
        "  for i in range(1,n+1):\n",
        "    result *= i\n",
        "  return result\n",
        "\n",
        "n = int(input(\"Enter a number: \"))\n",
        "print(fact(n))"
      ],
      "metadata": {
        "colab": {
          "base_uri": "https://localhost:8080/"
        },
        "id": "5WUHS-7wxqdt",
        "outputId": "1327c478-dcd5-4f1b-834b-e1596612df33"
      },
      "execution_count": null,
      "outputs": [
        {
          "output_type": "stream",
          "name": "stdout",
          "text": [
            "Enter a number: 45\n",
            "119622220865480194561963161495657715064383733760000000000\n"
          ]
        }
      ]
    },
    {
      "cell_type": "code",
      "source": [
        "def func(list1):\n",
        "  l = []\n",
        "  for i in range(len(list1) - 1,-1,-1):\n",
        "    l.append(list1[i])\n",
        "  return l\n",
        "\n",
        "list1 = [1,2,3,4,5]\n",
        "print(func(list1))"
      ],
      "metadata": {
        "colab": {
          "base_uri": "https://localhost:8080/"
        },
        "id": "i7QlKfAXzUJG",
        "outputId": "05f1e44a-0a6e-4090-e877-aa012e90d30f"
      },
      "execution_count": null,
      "outputs": [
        {
          "output_type": "stream",
          "name": "stdout",
          "text": [
            "[5, 4, 3, 2, 1]\n"
          ]
        }
      ]
    },
    {
      "cell_type": "code",
      "source": [
        "def add(a,b):\n",
        "  return a + b\n",
        "\n",
        "def sub(a,b):\n",
        "  return a - b\n",
        "\n",
        "def mul(a,b):\n",
        "  return a * b\n",
        "\n",
        "def div(a,b):\n",
        "  return a / b\n",
        "\n",
        "def calculate(func,a,b):\n",
        "  return func(a,b)\n",
        "\n",
        "print(calculate(add,10,5))\n",
        "print(calculate(sub,10,5))\n",
        "print(calculate(mul,10,5))\n",
        "print(calculate(div,10,5))"
      ],
      "metadata": {
        "colab": {
          "base_uri": "https://localhost:8080/"
        },
        "id": "N_DpEZ-Wzw5H",
        "outputId": "930f0be6-ed7e-401c-f6ab-da0279d3714e"
      },
      "execution_count": null,
      "outputs": [
        {
          "output_type": "stream",
          "name": "stdout",
          "text": [
            "15\n",
            "5\n",
            "50\n",
            "2.0\n"
          ]
        }
      ]
    },
    {
      "cell_type": "code",
      "source": [
        "def func1(my_list,value):\n",
        "  try:\n",
        "    return my_list.index(value)\n",
        "  except ValueError:\n",
        "    return False\n",
        "  else:\n",
        "    return -1\n",
        "\n",
        "my_list = [1,2,3,4,5]\n",
        "print(func1(my_list,'A'))\n"
      ],
      "metadata": {
        "colab": {
          "base_uri": "https://localhost:8080/"
        },
        "id": "Z12-xSJ32ioi",
        "outputId": "fe79658b-66b4-4b16-9818-f221c99d225e"
      },
      "execution_count": null,
      "outputs": [
        {
          "output_type": "stream",
          "name": "stdout",
          "text": [
            "False\n"
          ]
        }
      ]
    },
    {
      "cell_type": "code",
      "source": [
        "#__main__ = constructor"
      ],
      "metadata": {
        "id": "J60KnhOd6KNF"
      },
      "execution_count": null,
      "outputs": []
    },
    {
      "cell_type": "code",
      "source": [
        "\"\"\"\n",
        "Polymorphism Practice Q1 - creating a class \"Shape\" to calculate the area of different shapes.\n",
        "\"\"\"\n",
        "\n",
        "import math\n",
        "\n",
        "class Shape:\n",
        "  def area(self):\n",
        "    raise NotImplementedError(\"Subclasses should implement this method\")\n",
        "\n",
        "class Circle(Shape):\n",
        "  def __init__(self,radius):\n",
        "    self.radius = radius\n",
        "  def area(self):\n",
        "    return math.pi * self.radius ** 2\n",
        "\n",
        "class Rectangle(Shape):\n",
        "  def __init__(self,length,width):\n",
        "    self.length = length\n",
        "    self.width = width\n",
        "  def area(self):\n",
        "    return self.length * self.width\n",
        "\n",
        "def calculate_area(l):\n",
        "  if not isinstance(l,list):\n",
        "    raise ValueError(\"l must be a list\")\n",
        "  elif not all(isinstance(i,Circle) or isinstance(i,Rectangle) for i in l):\n",
        "    raise ValueError(\"l must contain only Circle or Rectangle objects\")\n",
        "  else:\n",
        "    for i in l:\n",
        "      if isinstance(i,Circle):\n",
        "        print(f\"Circle area with radius {i.radius}: {i.area()}\")\n",
        "      else:\n",
        "        print(f\"Rectangle area with length {i.length} and width {i.width}: {i.area()}\")\n",
        "\n",
        "l = [Circle(5),Rectangle(4,5)]\n",
        "calculate_area(l)\n"
      ],
      "metadata": {
        "colab": {
          "base_uri": "https://localhost:8080/"
        },
        "id": "2Qr4DmR72Ppj",
        "outputId": "94ac8e7e-6c57-495d-8a25-382f2555bc54"
      },
      "execution_count": null,
      "outputs": [
        {
          "output_type": "stream",
          "name": "stdout",
          "text": [
            "Circle area with radius 5: 78.53981633974483\n",
            "Rectangle area with length 4 and width 5: 20\n"
          ]
        }
      ]
    },
    {
      "cell_type": "code",
      "source": [
        "#Single level Inheritance - one base class/ one derived class\n",
        "\n",
        "#Base class\n",
        "class Animal:\n",
        "  def speak(self):\n",
        "    print(\"Animal speaks\")\n",
        "\n",
        "#Derived Class\n",
        "class Dog(Animal):\n",
        "  def bark(self):\n",
        "    print(\"Dog barks\")\n",
        "\n",
        "dog = Dog()\n",
        "dog.speak()\n",
        "dog.bark()\n"
      ],
      "metadata": {
        "colab": {
          "base_uri": "https://localhost:8080/"
        },
        "id": "OJoHVHjay-sT",
        "outputId": "f8cebed2-f4ea-42ed-aa78-7181915cace8"
      },
      "execution_count": null,
      "outputs": [
        {
          "output_type": "stream",
          "name": "stdout",
          "text": [
            "Animal speaks\n",
            "Dog barks\n"
          ]
        }
      ]
    },
    {
      "cell_type": "code",
      "source": [
        "#multi level inheritance ->  chain of inhertiance\n",
        "\n",
        "#Base class\n",
        "class Animal:\n",
        "  def speak(self):\n",
        "    print(\"Animal speaks\")\n",
        "\n",
        "#Derived class 1\n",
        "class Dog(Animal):\n",
        "  def bark(self):\n",
        "    print(\"Dog barks\")\n",
        "\n",
        "#Derived class 2\n",
        "class Puppy(Dog):\n",
        "  def cry(self):\n",
        "    print(\"Puppy cries\")\n",
        "\n",
        "puppy = Puppy()\n",
        "puppy.speak()\n",
        "puppy.bark()\n",
        "puppy.cry()\n",
        "\n"
      ],
      "metadata": {
        "colab": {
          "base_uri": "https://localhost:8080/"
        },
        "id": "rvGVUyIV1HhD",
        "outputId": "7c712845-6c13-490b-8563-2944fe83c7c4"
      },
      "execution_count": null,
      "outputs": [
        {
          "output_type": "stream",
          "name": "stdout",
          "text": [
            "Animal speaks\n",
            "Dog barks\n",
            "Puppy cries\n"
          ]
        }
      ]
    },
    {
      "cell_type": "code",
      "source": [
        "class Animal:\n",
        "  def make_sound(self):\n",
        "    print(\"Animal\")\n",
        "\n",
        "class Dog(Animal):\n",
        "  def make_sound(self):\n",
        "    print(\"Dog\")\n",
        "\n",
        "class Cat(Animal):\n",
        "  def make_sound(self):\n",
        "    print(\"Cat\")\n",
        "\n",
        "cat = Cat()\n",
        "dog = Dog()\n",
        "animal = Animal()\n",
        "cat.make_sound()\n",
        "dog.make_sound()\n",
        "animal.make_sound()\n"
      ],
      "metadata": {
        "colab": {
          "base_uri": "https://localhost:8080/"
        },
        "id": "JgMPIUux5G6p",
        "outputId": "b7d3c485-4fbb-412f-d467-a76004a23990"
      },
      "execution_count": null,
      "outputs": [
        {
          "output_type": "stream",
          "name": "stdout",
          "text": [
            "Cat\n",
            "Dog\n",
            "Animal\n"
          ]
        }
      ]
    },
    {
      "cell_type": "code",
      "source": [
        "#multiple level\n",
        "\n",
        "# Base class 1\n",
        "class Father:\n",
        "  def skills(self):\n",
        "    print(\"Father's skills\")\n",
        "\n",
        "# Base class 2\n",
        "class Mother:\n",
        "  def skills(self):\n",
        "    print(\"Mother's skills\")\n",
        "\n",
        "# Derived class\n",
        "class Child(Father,Mother):\n",
        "  def skills(self):\n",
        "    super().skills() # Calls the first class in the MRO(Method Resolution Order)\n",
        "    super().skills()\n",
        "    print(\"Child's skills\")\n",
        "\n",
        "child = Child()\n",
        "child.skills()\n",
        "#mother = Mother()\n",
        "#mother.skills()\n",
        "#Homework - MRO(Method Resolution Order)\n",
        "#MRO - solution of method overriding"
      ],
      "metadata": {
        "colab": {
          "base_uri": "https://localhost:8080/"
        },
        "id": "B2qXr4t57a0_",
        "outputId": "ce8b6a16-2b8d-45a9-e2a6-1fbde0c8a64a"
      },
      "execution_count": null,
      "outputs": [
        {
          "output_type": "stream",
          "name": "stdout",
          "text": [
            "Father's skills\n",
            "Father's skills\n",
            "Child's skills\n"
          ]
        }
      ]
    },
    {
      "cell_type": "code",
      "source": [
        "\"\"\"\n",
        "MRO - Practice\n",
        "\"\"\"\n",
        "\n",
        "class A:\n",
        "  def rk(self):\n",
        "    print(\"In class A\")\n",
        "\n",
        "class B(A):\n",
        "  def rk(self):\n",
        "    print(\"In class B\")\n",
        "\n",
        "class C(A):\n",
        "  def rk(self):\n",
        "    print(\"In class C\")\n",
        "\n",
        "class D(B,C):\n",
        "  pass\n",
        "\n",
        "\n",
        "d = D()\n",
        "d.rk()"
      ],
      "metadata": {
        "colab": {
          "base_uri": "https://localhost:8080/"
        },
        "id": "J-1QJCUqaUUh",
        "outputId": "bf78694a-0aec-4e91-b12d-b7a471acc691"
      },
      "execution_count": null,
      "outputs": [
        {
          "output_type": "stream",
          "name": "stdout",
          "text": [
            "In class B\n"
          ]
        }
      ]
    },
    {
      "cell_type": "code",
      "source": [
        "#hierarchical inheritance\n",
        "\n",
        "class Animal:\n",
        "  def speak(self):\n",
        "    print(\"Animal speaks\")\n",
        "\n",
        "class Dog(Animal):\n",
        "  def bark(self):\n",
        "    print(\"Dog barks\")\n",
        "\n",
        "class Cat(Animal):\n",
        "  def meow(self):\n",
        "    print(\"Cat meows\")\n",
        "\n",
        "dog = Dog()\n",
        "cat = Cat()\n",
        "dog.speak()\n",
        "dog.bark()\n",
        "cat.speak()\n",
        "cat.meow()\n",
        "\n"
      ],
      "metadata": {
        "colab": {
          "base_uri": "https://localhost:8080/"
        },
        "id": "Z0lI6CfaF7Mb",
        "outputId": "3d7d4c36-78f4-4b31-d6de-81c8670f8ce1"
      },
      "execution_count": null,
      "outputs": [
        {
          "output_type": "stream",
          "name": "stdout",
          "text": [
            "Animal speaks\n",
            "Dog barks\n",
            "Animal speaks\n",
            "Cat meows\n"
          ]
        }
      ]
    },
    {
      "cell_type": "code",
      "source": [
        "# you have a class bank. It is able to withdraw money and deposit money after verifying PIN.\n",
        "class Bank:\n",
        "  def __init__(self,pin,balance):\n",
        "    self.__pin = pin\n",
        "    self.__balance = balance\n",
        "\n",
        "  def verify_pin(self,pin):\n",
        "    if not(isinstance(pin,int)):\n",
        "      return False\n",
        "    elif pin == self.__pin:\n",
        "      return True\n",
        "    else:\n",
        "      return False\n",
        "\n",
        "  def display_balance(self):\n",
        "    pin = int(input(\"Enter PIN: \"))\n",
        "    if self.verify_pin(pin):\n",
        "      print(\"PIN Verified!\")\n",
        "      print(f\"Balance: {self.__balance}\")\n",
        "    else:\n",
        "      print(\"Invalid PIN\")\n",
        "\n",
        "  def withdraw(self):\n",
        "    pin = int(input(\"Enter PIN: \"))\n",
        "\n",
        "    if self.verify_pin(pin):\n",
        "      print(\"PIN Verified!\")\n",
        "      print(f\"Current balance: {self.__balance}\")\n",
        "      amount = float(input(\"Enter amount to withdraw: \"))\n",
        "      if amount <= self.__balance:\n",
        "        self.__balance -= amount\n",
        "        print(f\"Amount withdrawn: {amount}\")\n",
        "        check_balance = input(\"Do you want to check the balance? (yes/no): \")\n",
        "        if check_balance.lower() == \"yes\":\n",
        "          print(f\"Updated Balance : {self.__balance}\")\n",
        "      else:\n",
        "        print(\"Insufficient balance\")\n",
        "    else:\n",
        "      print(\"Invalid PIN\")\n",
        "\n",
        "  def deposit(self):\n",
        "    pin = int(input(\"Enter PIN: \"))\n",
        "\n",
        "    if self.verify_pin(pin):\n",
        "      print(\"PIN Verified!\")\n",
        "      print(f\"Current balance: {self.__balance}\")\n",
        "      amount = float(input(\"Enter amount to deposit: \"))\n",
        "      self.__balance += amount\n",
        "      print(f\"Amount deposited: {amount}\")\n",
        "      check_balance = input(\"Do you want to check the balance? (yes/no): \")\n",
        "      if check_balance.lower() == \"yes\":\n",
        "        print(f\"Updated Balance : {self.__balance}\")\n",
        "    else:\n",
        "      print(\"Invalid PIN\")\n",
        "\n",
        "bank = Bank(1234,1000)\n",
        "bank.withdraw()\n",
        "bank.deposit()\n",
        "bank.display_balance()\n"
      ],
      "metadata": {
        "colab": {
          "base_uri": "https://localhost:8080/"
        },
        "id": "mzGuStQdJQI0",
        "outputId": "101f863e-10bc-40c2-8f56-d81b04cb0486"
      },
      "execution_count": null,
      "outputs": [
        {
          "output_type": "stream",
          "name": "stdout",
          "text": [
            "Enter PIN: 1234\n",
            "PIN Verified!\n",
            "Current balance: 1000\n",
            "Enter amount to withdraw: 500\n",
            "Amount withdrawn: 500.0\n",
            "Do you want to check the balance? (yes/no): yes\n",
            "Updated Balance : 500.0\n",
            "Enter PIN: 1234\n",
            "PIN Verified!\n",
            "Current balance: 500.0\n",
            "Enter amount to deposit: 200\n",
            "Amount deposited: 200.0\n",
            "Do you want to check the balance? (yes/no): yes\n",
            "Updated Balance : 700.0\n",
            "Enter PIN: 1234\n",
            "PIN Verified!\n",
            "Balance: 700.0\n"
          ]
        }
      ]
    },
    {
      "cell_type": "code",
      "source": [
        "#hybrid inheritance = multiple inheritance + multi-level inheritance\n",
        "\n",
        "\n",
        "class Animal:\n",
        "  def __init__(self, name):\n",
        "    self.name = name\n",
        "\n",
        "  def speak(self):\n",
        "    print(f\"{self.name} makes a sound.\")\n",
        "\n",
        "class Dog(Animal):\n",
        "  def speak(self):\n",
        "    print(f\"{self.name} says Woof! \")\n",
        "\n",
        "class Puppy(Dog):\n",
        "  def speak(self):\n",
        "    print(f\"{self.name} says Yip! \")\n",
        "\n",
        "class Bird:\n",
        "  def __init__(self, name):\n",
        "    self.name = name\n",
        "\n",
        "  def fly(self):\n",
        "    print(f\"{self.name} can fly.\")\n",
        "\n",
        "class FlyingDog(Dog, Bird):\n",
        "  def __init__(self, name):\n",
        "    Dog.__init__(self, name)\n",
        "    Bird.__init__(self, name)\n",
        "\n",
        "  def speak(self):\n",
        "    Dog.speak(self)\n",
        "    Bird.fly(self)\n",
        "\n",
        "class FlyingPuppy(Puppy, Bird):\n",
        "  def __init__(self, name):\n",
        "    Puppy.__init__(self, name)\n",
        "    Bird.__init__(self, name)\n",
        "\n",
        "  def speak(self):\n",
        "    Puppy.speak(self)\n",
        "    Bird.fly(self)"
      ],
      "metadata": {
        "id": "A6bjb5a6psvz"
      },
      "execution_count": null,
      "outputs": []
    }
  ]
}