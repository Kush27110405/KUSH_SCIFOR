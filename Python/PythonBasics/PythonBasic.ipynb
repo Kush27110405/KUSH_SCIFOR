{
  "nbformat": 4,
  "nbformat_minor": 0,
  "metadata": {
    "colab": {
      "provenance": [],
      "authorship_tag": "ABX9TyOEo8esZS+VevXD9BRzdpeX",
      "include_colab_link": true
    },
    "kernelspec": {
      "name": "python3",
      "display_name": "Python 3"
    },
    "language_info": {
      "name": "python"
    }
  },
  "cells": [
    {
      "cell_type": "markdown",
      "metadata": {
        "id": "view-in-github",
        "colab_type": "text"
      },
      "source": [
        "<a href=\"https://colab.research.google.com/github/Kush27110405/KUSH_SCIFOR/blob/main/Python/PythonBasics/PythonBasic.ipynb\" target=\"_parent\"><img src=\"https://colab.research.google.com/assets/colab-badge.svg\" alt=\"Open In Colab\"/></a>"
      ]
    },
    {
      "cell_type": "code",
      "execution_count": null,
      "metadata": {
        "id": "5puiFnqcxi-F"
      },
      "outputs": [],
      "source": [
        "print(\"Hello World\")"
      ]
    },
    {
      "cell_type": "code",
      "source": [
        "#Variable - Placeholder/store data\n",
        "\n",
        "message = \"Hello world\"\n",
        "print(message)"
      ],
      "metadata": {
        "id": "UR4-PSgQ2zqD"
      },
      "execution_count": null,
      "outputs": []
    },
    {
      "cell_type": "code",
      "source": [
        "#data types -\n",
        "#integer = numerical value = whole no. = 1,2,3\n",
        "#float = decimal = 0.3,0.5\n",
        "#character = a,b,c || A,B,C\n",
        "#string = collection of characters = python, jupyter\n",
        "#boolean = yes or no, 0 or 1\n",
        "#by default = everything is stored as string in python"
      ],
      "metadata": {
        "id": "TN4g72hN3kys"
      },
      "execution_count": null,
      "outputs": []
    },
    {
      "cell_type": "code",
      "source": [
        "a=int(0)#integer - typecasting\n",
        "print(a)"
      ],
      "metadata": {
        "id": "BDqJUKeJ5MHD"
      },
      "execution_count": null,
      "outputs": []
    },
    {
      "cell_type": "code",
      "source": [
        "#conditional making statements\n",
        "#it helps us to make decisions based on certain conditions\n",
        "# types of conditional statements:-\n",
        "#1.if-else\n",
        "#2.nested - if - statement\n",
        "#3.match case statement"
      ],
      "metadata": {
        "id": "JReg1WOU5nk7"
      },
      "execution_count": null,
      "outputs": []
    },
    {
      "cell_type": "code",
      "source": [
        "#if - else\n",
        "#if condition:\n",
        "#  statement 1\n",
        "#else:\n",
        "#  statement 2\n",
        "\n",
        "i = 5\n",
        "\n",
        "if (i>15) :\n",
        "  print(\"10 is less than 15\")\n",
        "else :\n",
        "  print(\"stop\")"
      ],
      "metadata": {
        "id": "67T26hOX6dEN"
      },
      "execution_count": null,
      "outputs": []
    },
    {
      "cell_type": "code",
      "source": [
        "#nested - if\n",
        "\n",
        "#if (condition):\n",
        "#{\n",
        "    #if\n",
        "    #statement 1\n",
        "#}\n",
        "\n",
        "value = 9\n",
        "\n",
        "if value < 10:\n",
        "  print(\"value is less than 10\")\n",
        "\n",
        "if value > 20:\n",
        "  print(\"value is greater than 20\")"
      ],
      "metadata": {
        "id": "Cbv1BT8e7rfm"
      },
      "execution_count": null,
      "outputs": []
    },
    {
      "cell_type": "code",
      "source": [
        "#function = that helps us to reuse the same piece of code again and again without explicitly defining it, wherever we need\n",
        "#we call the function whenever we need it instead of making it second time\n",
        "\n",
        "def name():\n",
        "  ......\n",
        "  ......\n",
        "  Logic\n",
        "  ......\n",
        "  ......\n",
        "\n",
        "call the function name"
      ],
      "metadata": {
        "id": "ThM0r0uk8U0y"
      },
      "execution_count": null,
      "outputs": []
    },
    {
      "cell_type": "code",
      "source": [
        "def add(a,b,c):\n",
        "  return a+b+c\n",
        "\n",
        "result = add(5,3,2)\n",
        "print(result)\n",
        "\n"
      ],
      "metadata": {
        "id": "wWRKmlgU_ZUL"
      },
      "execution_count": null,
      "outputs": []
    },
    {
      "cell_type": "code",
      "source": [
        "#switch case\n",
        "\n",
        "def number(argument):\n",
        "  match argument :\n",
        "    case 0:\n",
        "      return \"zero\"\n",
        "    case 1:\n",
        "      return \"one\"\n",
        "    case 2:\n",
        "      return \"two\"\n",
        "    case default :\n",
        "      return \"default statement\"\n",
        "\n",
        "head = number(5)\n",
        "print(head)"
      ],
      "metadata": {
        "id": "AcUK6WCcA2zH"
      },
      "execution_count": null,
      "outputs": []
    },
    {
      "cell_type": "code",
      "source": [
        "n = \"kush\"\n",
        "\n",
        "match n:\n",
        "  case 0:\n",
        "    print(\"zero\")\n",
        "  case 1:\n",
        "    print(\"one\")\n",
        "  case 2:\n",
        "    print(\"two\")\n",
        "  case default:\n",
        "    print(\"default\")"
      ],
      "metadata": {
        "id": "boDC8fY5CKFy"
      },
      "execution_count": null,
      "outputs": []
    },
    {
      "cell_type": "code",
      "source": [
        "#if - elif - else\n",
        "\n",
        "#if condition:\n",
        "#   print(statement1)\n",
        "#elif condition:\n",
        "#   print()\n",
        "#else:\n",
        "#   print()\n"
      ],
      "metadata": {
        "id": "4XCRgCRRDXI5"
      },
      "execution_count": null,
      "outputs": []
    },
    {
      "cell_type": "code",
      "source": [
        "#loops in python\n",
        "#three categories:\n",
        "#for, while, do while loops\n",
        "\n",
        "#for loop, known sequence by the help of range function\n",
        "\n",
        "for i in range(0,10,2):\n",
        "  print(i)\n",
        "\n",
        "\n",
        "\n",
        "\n"
      ],
      "metadata": {
        "id": "ORZFJGtvjDkc"
      },
      "execution_count": null,
      "outputs": []
    },
    {
      "cell_type": "code",
      "source": [
        "l = [\"python\",\"machine learning\",\"ai\"]\n",
        "\n",
        "for i in l:\n",
        "  print(i)"
      ],
      "metadata": {
        "id": "p1jLPC6jklVj"
      },
      "execution_count": null,
      "outputs": []
    },
    {
      "cell_type": "code",
      "source": [
        "# difference between while loop and do while loop\n",
        "\n",
        "#while loop executes as long as the condition is true/ no. of iterations is not known beforehand, in for loop it is known\n",
        "i = 1\n",
        "while i <= 5:\n",
        "  print(i)\n",
        "  i += 1\n"
      ],
      "metadata": {
        "id": "nm578kWilSbw"
      },
      "execution_count": null,
      "outputs": []
    },
    {
      "cell_type": "code",
      "source": [
        "# do while loop - execute atleast once before checking the condition\n",
        "\n",
        "i = 1\n",
        "while True :\n",
        "  print(i)\n",
        "  i = i + 1\n",
        "  if i > 5:\n",
        "    break"
      ],
      "metadata": {
        "id": "2ZfX_cORmWeY"
      },
      "execution_count": null,
      "outputs": []
    },
    {
      "cell_type": "code",
      "source": [
        "#example of do while\n",
        "\n",
        "while True:\n",
        "  user_input = input(\"Enter any number :\")# takes the number as string\n",
        "  if user_input.isdigit() and len(user_input) == 1:\n",
        "    print(\"u entered valid digit\")\n",
        "    break\n",
        "  else:\n",
        "    print(\"Invalid input\")\n"
      ],
      "metadata": {
        "id": "Jj1ATjdDncvM"
      },
      "execution_count": null,
      "outputs": []
    },
    {
      "cell_type": "code",
      "source": [
        "#isdigit\n",
        "x = '2345'# the number is stored as string\n",
        "print(x)\n",
        "x.isdigit()\n",
        "y = '235a'\n",
        "print(y)\n",
        "y.isdigit()"
      ],
      "metadata": {
        "id": "px-LVqFnt43T"
      },
      "execution_count": null,
      "outputs": []
    },
    {
      "cell_type": "code",
      "source": [
        "y = 30 # the number is stored as int\n",
        "y.isdigit()\n"
      ],
      "metadata": {
        "id": "ugfNdRhMvG6C"
      },
      "execution_count": null,
      "outputs": []
    },
    {
      "cell_type": "code",
      "source": [],
      "metadata": {
        "id": "NhybdAlqvVQp"
      },
      "execution_count": null,
      "outputs": []
    }
  ]
}